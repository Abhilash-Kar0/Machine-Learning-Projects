{
 "cells": [
  {
   "cell_type": "code",
   "execution_count": 1,
   "metadata": {
    "_cell_guid": "b1076dfc-b9ad-4769-8c92-a6c4dae69d19",
    "_uuid": "8f2839f25d086af736a60e9eeb907d3b93b6e0e5"
   },
   "outputs": [
    {
     "name": "stdout",
     "output_type": "stream",
     "text": [
      "['sample_submission.csv', 'train.csv', 'test.csv']\n"
     ]
    }
   ],
   "source": [
    "# This Python 3 environment comes with many helpful analytics libraries installed\n",
    "# It is defined by the kaggle/python docker image: https://github.com/kaggle/docker-python\n",
    "# For example, here's several helpful packages to load in \n",
    "\n",
    "import numpy as np # linear algebra\n",
    "import pandas as pd # data processing, CSV file I/O (e.g. pd.read_csv)\n",
    "\n",
    "# Input data files are available in the \"../input/\" directory.\n",
    "# For example, running this (by clicking run or pressing Shift+Enter) will list the files in the input directory\n",
    "\n",
    "import os\n",
    "print(os.listdir(\"../input\"))\n",
    "\n",
    "# Any results you write to the current directory are saved as output.\n",
    "\n",
    "import sklearn\n",
    "from sklearn.linear_model import LogisticRegression\n",
    "from sklearn.model_selection import train_test_split\n"
   ]
  },
  {
   "cell_type": "code",
   "execution_count": 2,
   "metadata": {
    "_cell_guid": "79c7e3d0-c299-4dcb-8224-4455121ee9b0",
    "_uuid": "d629ff2d2480ee46fbb7e2d37f6b5fab8052498a"
   },
   "outputs": [
    {
     "name": "stdout",
     "output_type": "stream",
     "text": [
      "/kaggle/input\n"
     ]
    }
   ],
   "source": [
    "%cd ../input/"
   ]
  },
  {
   "cell_type": "code",
   "execution_count": 3,
   "metadata": {},
   "outputs": [],
   "source": [
    "\n",
    "df = pd.read_csv('train.csv')\n",
    "\n",
    "y = df['label']\n",
    "X = df.drop(['label'],axis = 1)\n",
    "test = pd.read_csv('test.csv')\n",
    "n3 = test.values\n",
    "\n"
   ]
  },
  {
   "cell_type": "code",
   "execution_count": 4,
   "metadata": {},
   "outputs": [],
   "source": [
    "X_train,X_val,y_train,y_val = train_test_split(X,y,test_size= 0.15)\n",
    "y_train = y_train.values\n",
    "y_val = y_val.values\n",
    "X_train = X_train.values\n",
    "X_val = X_val.values"
   ]
  },
  {
   "cell_type": "markdown",
   "metadata": {},
   "source": [
    "#change cell to code to run SKlearn neural net classifier\n",
    "from sklearn.neural_network import MLPClassifier\n",
    "solvers = ['lbfgs', 'sgd', 'adam']\n",
    "for solver in solvers:\n",
    "    clf = MLPClassifier(solver=solver,activation='logistic', alpha=1e-5,hidden_layer_sizes=(100), random_state=1)\n",
    "    clf.fit(X_train,y_train)\n",
    "    print(clf.score(X_val,y_val))"
   ]
  },
  {
   "cell_type": "code",
   "execution_count": 5,
   "metadata": {},
   "outputs": [],
   "source": [
    "def Reshape2d(x):\n",
    "    x = np.reshape(x,(-1,28,28))\n",
    "    return x\n",
    "def next_batch(x,y,batch_size):\n",
    "    \n",
    "    while True:\n",
    "        try:\n",
    "            i +=1\n",
    "        except:\n",
    "            i=0\n",
    "        if i>=len(x)//batch_size:\n",
    "            i=0\n",
    "        yield (np.reshape(x[i*batch_size:(i+1)*batch_size],(batch_size,1,28,28)), y[i*batch_size:(i+1)*batch_size])"
   ]
  },
  {
   "cell_type": "code",
   "execution_count": 6,
   "metadata": {},
   "outputs": [
    {
     "name": "stderr",
     "output_type": "stream",
     "text": [
      "Using TensorFlow backend.\n"
     ]
    }
   ],
   "source": [
    "import keras\n",
    "from keras.models import Sequential\n",
    "from keras.layers import Dense, Dropout, Activation, Conv2D,MaxPooling2D,Flatten\n",
    "from keras.optimizers import SGD\n",
    "model = Sequential()\n",
    "\n",
    "model.add(Conv2D(32,kernel_size= 5 ,strides = 1,data_format=\"channels_first\",activation = 'relu',input_shape = (1,28,28)))\n",
    "model.add(MaxPooling2D(pool_size=(2, 2), strides=None, padding='valid', data_format='channels_first'))\n",
    "model.add(Conv2D(64,(3,3),strides = 1,data_format=\"channels_first\",activation = 'relu'))\n",
    "model.add(MaxPooling2D(pool_size=(2, 2), strides=None, padding='valid', data_format='channels_first'))\n",
    "model.add(Flatten(data_format=\"channels_first\"))\n",
    "model.add(Dropout(rate=0.5))\n",
    "model.add(Dense(400,activation='sigmoid'))\n",
    "#model.add(Dropout(rate=0.4))\n",
    "model.add(Dense(10,activation='sigmoid'))\n",
    "model.compile(optimizer='sgd',loss = 'categorical_crossentropy',metrics=['accuracy'])"
   ]
  },
  {
   "cell_type": "code",
   "execution_count": 7,
   "metadata": {},
   "outputs": [
    {
     "name": "stdout",
     "output_type": "stream",
     "text": [
      "_________________________________________________________________\n",
      "Layer (type)                 Output Shape              Param #   \n",
      "=================================================================\n",
      "conv2d_1 (Conv2D)            (None, 32, 24, 24)        832       \n",
      "_________________________________________________________________\n",
      "max_pooling2d_1 (MaxPooling2 (None, 32, 12, 12)        0         \n",
      "_________________________________________________________________\n",
      "conv2d_2 (Conv2D)            (None, 64, 10, 10)        18496     \n",
      "_________________________________________________________________\n",
      "max_pooling2d_2 (MaxPooling2 (None, 64, 5, 5)          0         \n",
      "_________________________________________________________________\n",
      "flatten_1 (Flatten)          (None, 1600)              0         \n",
      "_________________________________________________________________\n",
      "dropout_1 (Dropout)          (None, 1600)              0         \n",
      "_________________________________________________________________\n",
      "dense_1 (Dense)              (None, 400)               640400    \n",
      "_________________________________________________________________\n",
      "dense_2 (Dense)              (None, 10)                4010      \n",
      "=================================================================\n",
      "Total params: 663,738\n",
      "Trainable params: 663,738\n",
      "Non-trainable params: 0\n",
      "_________________________________________________________________\n"
     ]
    }
   ],
   "source": [
    "#keras.backend.shape()\n",
    "model.summary()"
   ]
  },
  {
   "cell_type": "code",
   "execution_count": 8,
   "metadata": {},
   "outputs": [],
   "source": [
    "X_train = Reshape2d(X_train)\n",
    "X_val = Reshape2d(X_val)\n",
    "#print(type(X_train))\n",
    "from keras.utils.np_utils import to_categorical  \n",
    "\n",
    "y_train = to_categorical(y_train,num_classes=10)\n",
    "y_val = to_categorical(y_val,num_classes=10)"
   ]
  },
  {
   "cell_type": "code",
   "execution_count": 9,
   "metadata": {},
   "outputs": [
    {
     "name": "stdout",
     "output_type": "stream",
     "text": [
      "(6300, 28, 28)\n",
      "(6300, 10)\n"
     ]
    },
    {
     "data": {
      "text/plain": [
       "array([[0., 0., 0., ..., 1., 0., 0.],\n",
       "       [0., 0., 0., ..., 0., 0., 0.],\n",
       "       [0., 0., 0., ..., 1., 0., 0.],\n",
       "       ...,\n",
       "       [0., 0., 0., ..., 0., 0., 0.],\n",
       "       [0., 1., 0., ..., 0., 0., 0.],\n",
       "       [0., 0., 0., ..., 1., 0., 0.]], dtype=float32)"
      ]
     },
     "execution_count": 9,
     "metadata": {},
     "output_type": "execute_result"
    }
   ],
   "source": [
    "print(X_val.shape)\n",
    "print(y_val.shape)\n",
    "y_val"
   ]
  },
  {
   "cell_type": "code",
   "execution_count": 10,
   "metadata": {},
   "outputs": [
    {
     "name": "stdout",
     "output_type": "stream",
     "text": [
      "Epoch 1/100\n",
      "557/557 [==============================] - 7s 12ms/step - loss: 1.1197 - acc: 0.6839 - val_loss: 0.2580 - val_acc: 0.9360\n",
      "Epoch 2/100\n",
      "557/557 [==============================] - 3s 5ms/step - loss: 0.3108 - acc: 0.9284 - val_loss: 0.1430 - val_acc: 0.9610\n",
      "Epoch 3/100\n",
      "557/557 [==============================] - 3s 5ms/step - loss: 0.2035 - acc: 0.9486 - val_loss: 0.1078 - val_acc: 0.9675\n",
      "Epoch 4/100\n",
      "557/557 [==============================] - 3s 5ms/step - loss: 0.1610 - acc: 0.9580 - val_loss: 0.0922 - val_acc: 0.9690\n",
      "Epoch 5/100\n",
      "557/557 [==============================] - 3s 5ms/step - loss: 0.1344 - acc: 0.9653 - val_loss: 0.0829 - val_acc: 0.9740\n",
      "Epoch 6/100\n",
      "557/557 [==============================] - 3s 6ms/step - loss: 0.1195 - acc: 0.9673 - val_loss: 0.0702 - val_acc: 0.9771\n",
      "Epoch 7/100\n",
      "557/557 [==============================] - 3s 6ms/step - loss: 0.1062 - acc: 0.9711 - val_loss: 0.0704 - val_acc: 0.9773\n",
      "Epoch 8/100\n",
      "557/557 [==============================] - 3s 5ms/step - loss: 0.0969 - acc: 0.9735 - val_loss: 0.0607 - val_acc: 0.9805\n",
      "Epoch 9/100\n",
      "557/557 [==============================] - 3s 5ms/step - loss: 0.0902 - acc: 0.9756 - val_loss: 0.0586 - val_acc: 0.9822\n",
      "Epoch 10/100\n",
      "557/557 [==============================] - 3s 5ms/step - loss: 0.0826 - acc: 0.9769 - val_loss: 0.0542 - val_acc: 0.9832\n",
      "Epoch 11/100\n",
      "557/557 [==============================] - 3s 5ms/step - loss: 0.0797 - acc: 0.9773 - val_loss: 0.0561 - val_acc: 0.9824\n",
      "Epoch 12/100\n",
      "557/557 [==============================] - 3s 5ms/step - loss: 0.0767 - acc: 0.9781 - val_loss: 0.0529 - val_acc: 0.9841\n",
      "Epoch 13/100\n",
      "557/557 [==============================] - 3s 5ms/step - loss: 0.0706 - acc: 0.9804 - val_loss: 0.0501 - val_acc: 0.9835\n",
      "Epoch 14/100\n",
      "557/557 [==============================] - 3s 5ms/step - loss: 0.0690 - acc: 0.9803 - val_loss: 0.0471 - val_acc: 0.9856\n",
      "Epoch 15/100\n",
      "557/557 [==============================] - 3s 5ms/step - loss: 0.0667 - acc: 0.9812 - val_loss: 0.0483 - val_acc: 0.9857\n",
      "Epoch 16/100\n",
      "557/557 [==============================] - 3s 6ms/step - loss: 0.0636 - acc: 0.9814 - val_loss: 0.0489 - val_acc: 0.9849\n",
      "Epoch 17/100\n",
      "557/557 [==============================] - 3s 5ms/step - loss: 0.0612 - acc: 0.9825 - val_loss: 0.0495 - val_acc: 0.9849\n",
      "Epoch 18/100\n",
      "557/557 [==============================] - 3s 5ms/step - loss: 0.0577 - acc: 0.9844 - val_loss: 0.0455 - val_acc: 0.9862\n",
      "Epoch 19/100\n",
      "557/557 [==============================] - 3s 5ms/step - loss: 0.0566 - acc: 0.9840 - val_loss: 0.0439 - val_acc: 0.9863\n",
      "Epoch 20/100\n",
      "557/557 [==============================] - 3s 6ms/step - loss: 0.0563 - acc: 0.9843 - val_loss: 0.0411 - val_acc: 0.9868\n",
      "Epoch 21/100\n",
      "557/557 [==============================] - 3s 5ms/step - loss: 0.0541 - acc: 0.9843 - val_loss: 0.0427 - val_acc: 0.9870\n",
      "Epoch 22/100\n",
      "557/557 [==============================] - 3s 5ms/step - loss: 0.0510 - acc: 0.9857 - val_loss: 0.0392 - val_acc: 0.9887\n",
      "Epoch 23/100\n",
      "557/557 [==============================] - 3s 5ms/step - loss: 0.0501 - acc: 0.9856 - val_loss: 0.0399 - val_acc: 0.9881\n",
      "Epoch 24/100\n",
      "557/557 [==============================] - 3s 5ms/step - loss: 0.0510 - acc: 0.9850 - val_loss: 0.0413 - val_acc: 0.9863\n",
      "Epoch 25/100\n",
      "557/557 [==============================] - 3s 5ms/step - loss: 0.0482 - acc: 0.9857 - val_loss: 0.0407 - val_acc: 0.9863\n",
      "Epoch 26/100\n",
      "557/557 [==============================] - 3s 5ms/step - loss: 0.0469 - acc: 0.9861 - val_loss: 0.0398 - val_acc: 0.9868\n",
      "Epoch 27/100\n",
      "557/557 [==============================] - 3s 5ms/step - loss: 0.0446 - acc: 0.9873 - val_loss: 0.0384 - val_acc: 0.9875\n",
      "Epoch 28/100\n",
      "557/557 [==============================] - 3s 5ms/step - loss: 0.0436 - acc: 0.9877 - val_loss: 0.0386 - val_acc: 0.9871\n",
      "Epoch 29/100\n",
      "557/557 [==============================] - 3s 5ms/step - loss: 0.0426 - acc: 0.9870 - val_loss: 0.0368 - val_acc: 0.9883\n",
      "Epoch 30/100\n",
      "557/557 [==============================] - 3s 5ms/step - loss: 0.0430 - acc: 0.9879 - val_loss: 0.0373 - val_acc: 0.9884\n",
      "Epoch 31/100\n",
      "557/557 [==============================] - 3s 5ms/step - loss: 0.0402 - acc: 0.9888 - val_loss: 0.0369 - val_acc: 0.9879\n",
      "Epoch 32/100\n",
      "557/557 [==============================] - 3s 5ms/step - loss: 0.0416 - acc: 0.9878 - val_loss: 0.0375 - val_acc: 0.9879\n",
      "Epoch 33/100\n",
      "557/557 [==============================] - 3s 5ms/step - loss: 0.0407 - acc: 0.9877 - val_loss: 0.0359 - val_acc: 0.9890\n",
      "Epoch 34/100\n",
      "557/557 [==============================] - 3s 5ms/step - loss: 0.0409 - acc: 0.9878 - val_loss: 0.0356 - val_acc: 0.9887\n",
      "Epoch 35/100\n",
      "557/557 [==============================] - 3s 5ms/step - loss: 0.0389 - acc: 0.9884 - val_loss: 0.0357 - val_acc: 0.9890\n",
      "Epoch 36/100\n",
      "557/557 [==============================] - 3s 5ms/step - loss: 0.0373 - acc: 0.9886 - val_loss: 0.0357 - val_acc: 0.9894\n",
      "Epoch 37/100\n",
      "557/557 [==============================] - 3s 5ms/step - loss: 0.0382 - acc: 0.9890 - val_loss: 0.0354 - val_acc: 0.9895\n",
      "Epoch 38/100\n",
      "557/557 [==============================] - 3s 5ms/step - loss: 0.0362 - acc: 0.9892 - val_loss: 0.0359 - val_acc: 0.9886\n",
      "Epoch 39/100\n",
      "557/557 [==============================] - 3s 6ms/step - loss: 0.0363 - acc: 0.9893 - val_loss: 0.0352 - val_acc: 0.9887\n",
      "Epoch 40/100\n",
      "557/557 [==============================] - 3s 6ms/step - loss: 0.0360 - acc: 0.9891 - val_loss: 0.0349 - val_acc: 0.9892\n",
      "Epoch 41/100\n",
      "557/557 [==============================] - 3s 6ms/step - loss: 0.0345 - acc: 0.9895 - val_loss: 0.0365 - val_acc: 0.9892\n",
      "Epoch 42/100\n",
      "557/557 [==============================] - 3s 5ms/step - loss: 0.0351 - acc: 0.9899 - val_loss: 0.0358 - val_acc: 0.9887\n",
      "Epoch 43/100\n",
      "557/557 [==============================] - 3s 5ms/step - loss: 0.0327 - acc: 0.9911 - val_loss: 0.0352 - val_acc: 0.9900\n",
      "Epoch 44/100\n",
      "557/557 [==============================] - 3s 5ms/step - loss: 0.0321 - acc: 0.9909 - val_loss: 0.0357 - val_acc: 0.9887\n",
      "Epoch 45/100\n",
      "557/557 [==============================] - 3s 5ms/step - loss: 0.0330 - acc: 0.9902 - val_loss: 0.0369 - val_acc: 0.9887\n",
      "Epoch 46/100\n",
      "557/557 [==============================] - 3s 5ms/step - loss: 0.0315 - acc: 0.9911 - val_loss: 0.0342 - val_acc: 0.9892\n",
      "Epoch 47/100\n",
      "557/557 [==============================] - 3s 5ms/step - loss: 0.0312 - acc: 0.9901 - val_loss: 0.0345 - val_acc: 0.9890\n",
      "Epoch 48/100\n",
      "557/557 [==============================] - 3s 6ms/step - loss: 0.0317 - acc: 0.9909 - val_loss: 0.0345 - val_acc: 0.9890\n",
      "Epoch 49/100\n",
      "557/557 [==============================] - 3s 5ms/step - loss: 0.0311 - acc: 0.9907 - val_loss: 0.0348 - val_acc: 0.9887\n",
      "Epoch 50/100\n",
      "557/557 [==============================] - 3s 5ms/step - loss: 0.0293 - acc: 0.9918 - val_loss: 0.0348 - val_acc: 0.9897\n",
      "Epoch 51/100\n",
      "557/557 [==============================] - 3s 5ms/step - loss: 0.0293 - acc: 0.9913 - val_loss: 0.0354 - val_acc: 0.9887\n",
      "Epoch 52/100\n",
      "557/557 [==============================] - 3s 5ms/step - loss: 0.0294 - acc: 0.9913 - val_loss: 0.0353 - val_acc: 0.9892\n",
      "Epoch 53/100\n",
      "557/557 [==============================] - 3s 5ms/step - loss: 0.0297 - acc: 0.9911 - val_loss: 0.0349 - val_acc: 0.9887\n",
      "Epoch 54/100\n",
      "557/557 [==============================] - 3s 5ms/step - loss: 0.0304 - acc: 0.9908 - val_loss: 0.0340 - val_acc: 0.9897\n",
      "Epoch 55/100\n",
      "557/557 [==============================] - 3s 5ms/step - loss: 0.0280 - acc: 0.9917 - val_loss: 0.0355 - val_acc: 0.9890\n",
      "Epoch 56/100\n",
      "557/557 [==============================] - 3s 5ms/step - loss: 0.0281 - acc: 0.9918 - val_loss: 0.0344 - val_acc: 0.9898\n",
      "Epoch 57/100\n",
      "557/557 [==============================] - 3s 5ms/step - loss: 0.0279 - acc: 0.9913 - val_loss: 0.0324 - val_acc: 0.9897\n",
      "Epoch 58/100\n",
      "557/557 [==============================] - 3s 5ms/step - loss: 0.0273 - acc: 0.9920 - val_loss: 0.0344 - val_acc: 0.9897\n",
      "Epoch 59/100\n",
      "557/557 [==============================] - 3s 5ms/step - loss: 0.0255 - acc: 0.9927 - val_loss: 0.0340 - val_acc: 0.9902\n",
      "Epoch 60/100\n",
      "557/557 [==============================] - 3s 5ms/step - loss: 0.0263 - acc: 0.9927 - val_loss: 0.0335 - val_acc: 0.9903\n",
      "Epoch 61/100\n",
      "557/557 [==============================] - 3s 5ms/step - loss: 0.0267 - acc: 0.9919 - val_loss: 0.0339 - val_acc: 0.9890\n",
      "Epoch 62/100\n",
      "557/557 [==============================] - 3s 5ms/step - loss: 0.0266 - acc: 0.9918 - val_loss: 0.0322 - val_acc: 0.9900\n",
      "Epoch 63/100\n",
      "557/557 [==============================] - 3s 5ms/step - loss: 0.0247 - acc: 0.9925 - val_loss: 0.0350 - val_acc: 0.9895\n",
      "Epoch 64/100\n",
      "557/557 [==============================] - 3s 5ms/step - loss: 0.0251 - acc: 0.9923 - val_loss: 0.0334 - val_acc: 0.9897\n",
      "Epoch 65/100\n",
      "557/557 [==============================] - 3s 5ms/step - loss: 0.0249 - acc: 0.9926 - val_loss: 0.0347 - val_acc: 0.9895\n",
      "Epoch 66/100\n",
      "557/557 [==============================] - 3s 5ms/step - loss: 0.0247 - acc: 0.9926 - val_loss: 0.0331 - val_acc: 0.9892\n",
      "Epoch 67/100\n",
      "557/557 [==============================] - 3s 5ms/step - loss: 0.0224 - acc: 0.9934 - val_loss: 0.0326 - val_acc: 0.9906\n",
      "Epoch 68/100\n",
      "557/557 [==============================] - 3s 5ms/step - loss: 0.0241 - acc: 0.9929 - val_loss: 0.0323 - val_acc: 0.9911\n",
      "Epoch 69/100\n",
      "557/557 [==============================] - 3s 5ms/step - loss: 0.0229 - acc: 0.9932 - val_loss: 0.0339 - val_acc: 0.9900\n",
      "Epoch 70/100\n",
      "557/557 [==============================] - 3s 5ms/step - loss: 0.0228 - acc: 0.9932 - val_loss: 0.0327 - val_acc: 0.9905\n",
      "Epoch 71/100\n",
      "557/557 [==============================] - 3s 5ms/step - loss: 0.0239 - acc: 0.9932 - val_loss: 0.0320 - val_acc: 0.9902\n",
      "Epoch 72/100\n",
      "557/557 [==============================] - 3s 5ms/step - loss: 0.0228 - acc: 0.9937 - val_loss: 0.0316 - val_acc: 0.9898\n",
      "Epoch 73/100\n",
      "557/557 [==============================] - 3s 5ms/step - loss: 0.0219 - acc: 0.9938 - val_loss: 0.0332 - val_acc: 0.9905\n",
      "Epoch 74/100\n",
      "557/557 [==============================] - 3s 5ms/step - loss: 0.0227 - acc: 0.9935 - val_loss: 0.0324 - val_acc: 0.9908\n",
      "Epoch 75/100\n",
      "557/557 [==============================] - 3s 5ms/step - loss: 0.0225 - acc: 0.9930 - val_loss: 0.0333 - val_acc: 0.9903\n",
      "Epoch 76/100\n",
      "557/557 [==============================] - 3s 5ms/step - loss: 0.0230 - acc: 0.9928 - val_loss: 0.0343 - val_acc: 0.9902\n",
      "Epoch 77/100\n",
      "557/557 [==============================] - 3s 5ms/step - loss: 0.0221 - acc: 0.9940 - val_loss: 0.0327 - val_acc: 0.9903\n",
      "Epoch 78/100\n",
      "557/557 [==============================] - 3s 5ms/step - loss: 0.0222 - acc: 0.9934 - val_loss: 0.0339 - val_acc: 0.9898\n",
      "Epoch 79/100\n",
      "557/557 [==============================] - 3s 5ms/step - loss: 0.0212 - acc: 0.9932 - val_loss: 0.0335 - val_acc: 0.9906\n",
      "Epoch 80/100\n",
      "557/557 [==============================] - 3s 5ms/step - loss: 0.0206 - acc: 0.9939 - val_loss: 0.0327 - val_acc: 0.9905\n",
      "Epoch 81/100\n",
      "557/557 [==============================] - 3s 5ms/step - loss: 0.0206 - acc: 0.9940 - val_loss: 0.0322 - val_acc: 0.9905\n",
      "Epoch 82/100\n",
      "557/557 [==============================] - 3s 5ms/step - loss: 0.0202 - acc: 0.9939 - val_loss: 0.0305 - val_acc: 0.9910\n",
      "Epoch 83/100\n",
      "557/557 [==============================] - 3s 5ms/step - loss: 0.0207 - acc: 0.9937 - val_loss: 0.0306 - val_acc: 0.9917\n",
      "Epoch 84/100\n",
      "557/557 [==============================] - 3s 5ms/step - loss: 0.0201 - acc: 0.9938 - val_loss: 0.0307 - val_acc: 0.9911\n",
      "Epoch 85/100\n",
      "557/557 [==============================] - 3s 5ms/step - loss: 0.0211 - acc: 0.9935 - val_loss: 0.0313 - val_acc: 0.9903\n",
      "Epoch 86/100\n",
      "557/557 [==============================] - 3s 5ms/step - loss: 0.0200 - acc: 0.9939 - val_loss: 0.0319 - val_acc: 0.9905\n",
      "Epoch 87/100\n",
      "557/557 [==============================] - 3s 5ms/step - loss: 0.0206 - acc: 0.9940 - val_loss: 0.0319 - val_acc: 0.9911\n",
      "Epoch 88/100\n",
      "557/557 [==============================] - 3s 5ms/step - loss: 0.0198 - acc: 0.9944 - val_loss: 0.0316 - val_acc: 0.9906\n",
      "Epoch 89/100\n",
      "557/557 [==============================] - 3s 5ms/step - loss: 0.0199 - acc: 0.9939 - val_loss: 0.0328 - val_acc: 0.9908\n",
      "Epoch 90/100\n",
      "557/557 [==============================] - 3s 5ms/step - loss: 0.0195 - acc: 0.9945 - val_loss: 0.0308 - val_acc: 0.9913\n",
      "Epoch 91/100\n",
      "557/557 [==============================] - 3s 5ms/step - loss: 0.0202 - acc: 0.9937 - val_loss: 0.0315 - val_acc: 0.9908\n",
      "Epoch 92/100\n",
      "557/557 [==============================] - 3s 5ms/step - loss: 0.0201 - acc: 0.9939 - val_loss: 0.0301 - val_acc: 0.9911\n",
      "Epoch 93/100\n",
      "557/557 [==============================] - 3s 5ms/step - loss: 0.0198 - acc: 0.9942 - val_loss: 0.0305 - val_acc: 0.9908\n",
      "Epoch 94/100\n",
      "557/557 [==============================] - 3s 5ms/step - loss: 0.0189 - acc: 0.9944 - val_loss: 0.0301 - val_acc: 0.9911\n",
      "Epoch 95/100\n",
      "557/557 [==============================] - 3s 5ms/step - loss: 0.0183 - acc: 0.9945 - val_loss: 0.0306 - val_acc: 0.9911\n",
      "Epoch 96/100\n",
      "557/557 [==============================] - 3s 5ms/step - loss: 0.0185 - acc: 0.9946 - val_loss: 0.0319 - val_acc: 0.9910\n",
      "Epoch 97/100\n",
      "557/557 [==============================] - 3s 5ms/step - loss: 0.0178 - acc: 0.9948 - val_loss: 0.0306 - val_acc: 0.9906\n",
      "Epoch 98/100\n",
      "557/557 [==============================] - 3s 5ms/step - loss: 0.0185 - acc: 0.9943 - val_loss: 0.0309 - val_acc: 0.9917\n",
      "Epoch 99/100\n",
      "557/557 [==============================] - 3s 5ms/step - loss: 0.0173 - acc: 0.9947 - val_loss: 0.0337 - val_acc: 0.9903\n",
      "Epoch 100/100\n",
      "557/557 [==============================] - 3s 5ms/step - loss: 0.0187 - acc: 0.9945 - val_loss: 0.0314 - val_acc: 0.9903\n"
     ]
    },
    {
     "data": {
      "text/plain": [
       "<keras.callbacks.History at 0x7f54952607f0>"
      ]
     },
     "execution_count": 10,
     "metadata": {},
     "output_type": "execute_result"
    }
   ],
   "source": [
    "\n",
    "batch_size = 64\n",
    "model.fit_generator(next_batch(X_train,y_train,batch_size),epochs = 100,validation_data=(np.reshape(X_val,(-1,1,28,28)),y_val),steps_per_epoch=len(X_train)//batch_size)"
   ]
  },
  {
   "cell_type": "code",
   "execution_count": 11,
   "metadata": {},
   "outputs": [],
   "source": [
    "try:\n",
    "    counter +=1\n",
    "except:\n",
    "    counter = 0\n",
    "model.save('../working/model0'+str(counter))"
   ]
  },
  {
   "cell_type": "code",
   "execution_count": 12,
   "metadata": {},
   "outputs": [
    {
     "name": "stdout",
     "output_type": "stream",
     "text": [
      "ls: cannot access '../working/model1': No such file or directory\r\n"
     ]
    }
   ],
   "source": [
    "!ls ../working/model1"
   ]
  },
  {
   "cell_type": "code",
   "execution_count": 13,
   "metadata": {},
   "outputs": [],
   "source": [
    "n3 = np.reshape(n3,(-1,1,28,28))\n",
    "\n",
    "z= model.predict(n3)\n",
    "z = [np.argmax(r) for r in z]\n",
    "z1=pd.DataFrame({'ImageId': np.arange(1,len(z)+1) ,'label': z})\n",
    "z1.to_csv(\"../working/foo.csv\",index=False)"
   ]
  },
  {
   "cell_type": "code",
   "execution_count": null,
   "metadata": {},
   "outputs": [],
   "source": []
  }
 ],
 "metadata": {
  "kernelspec": {
   "display_name": "Python 3",
   "language": "python",
   "name": "python3"
  },
  "language_info": {
   "codemirror_mode": {
    "name": "ipython",
    "version": 3
   },
   "file_extension": ".py",
   "mimetype": "text/x-python",
   "name": "python",
   "nbconvert_exporter": "python",
   "pygments_lexer": "ipython3",
   "version": "3.6.6"
  }
 },
 "nbformat": 4,
 "nbformat_minor": 1
}
