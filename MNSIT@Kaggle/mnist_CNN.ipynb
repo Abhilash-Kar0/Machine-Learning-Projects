{
 "cells": [
  {
   "cell_type": "code",
   "execution_count": 1,
   "metadata": {
    "_cell_guid": "b1076dfc-b9ad-4769-8c92-a6c4dae69d19",
    "_uuid": "8f2839f25d086af736a60e9eeb907d3b93b6e0e5"
   },
   "outputs": [
    {
     "name": "stdout",
     "output_type": "stream",
     "text": [
      "['sample_submission.csv', 'train.csv', 'test.csv']\n"
     ]
    }
   ],
   "source": [
    "# This Python 3 environment comes with many helpful analytics libraries installed\n",
    "# It is defined by the kaggle/python docker image: https://github.com/kaggle/docker-python\n",
    "# For example, here's several helpful packages to load in \n",
    "\n",
    "import numpy as np # linear algebra\n",
    "import pandas as pd # data processing, CSV file I/O (e.g. pd.read_csv)\n",
    "\n",
    "# Input data files are available in the \"../input/\" directory.\n",
    "# For example, running this (by clicking run or pressing Shift+Enter) will list the files in the input directory\n",
    "\n",
    "import os\n",
    "print(os.listdir(\"../input\"))\n",
    "\n",
    "# Any results you write to the current directory are saved as output.\n",
    "\n",
    "import sklearn\n",
    "from sklearn.linear_model import LogisticRegression\n",
    "from sklearn.model_selection import train_test_split\n"
   ]
  },
  {
   "cell_type": "code",
   "execution_count": 2,
   "metadata": {
    "_cell_guid": "79c7e3d0-c299-4dcb-8224-4455121ee9b0",
    "_uuid": "d629ff2d2480ee46fbb7e2d37f6b5fab8052498a"
   },
   "outputs": [
    {
     "name": "stdout",
     "output_type": "stream",
     "text": [
      "/kaggle/input\n"
     ]
    }
   ],
   "source": [
    "%cd ../input/"
   ]
  },
  {
   "cell_type": "code",
   "execution_count": 3,
   "metadata": {},
   "outputs": [],
   "source": [
    "\n",
    "df = pd.read_csv('train.csv')\n",
    "\n",
    "y = df['label']\n",
    "X = df.drop(['label'],axis = 1)\n",
    "test = pd.read_csv('test.csv')\n",
    "n3 = test.values\n",
    "\n"
   ]
  },
  {
   "cell_type": "code",
   "execution_count": 4,
   "metadata": {},
   "outputs": [],
   "source": [
    "X_train,X_val,y_train,y_val = train_test_split(X,y,test_size= 0.15)\n",
    "y_train = y_train.values\n",
    "y_val = y_val.values\n",
    "X_train = X_train.values\n",
    "X_val = X_val.values"
   ]
  },
  {
   "cell_type": "markdown",
   "metadata": {},
   "source": [
    "from sklearn.neural_network import MLPClassifier\n",
    "solvers = ['lbfgs', 'sgd', 'adam']\n",
    "for solver in solvers:\n",
    "    clf = MLPClassifier(solver=solver,activation='logistic', alpha=1e-5,hidden_layer_sizes=(100), random_state=1)\n",
    "    clf.fit(X_train,y_train)\n",
    "    print(clf.score(X_val,y_val))"
   ]
  },
  {
   "cell_type": "code",
   "execution_count": 5,
   "metadata": {},
   "outputs": [],
   "source": [
    "def Reshape2d(x):\n",
    "    x = np.reshape(x,(-1,28,28))\n",
    "    return x\n",
    "def next_batch(x,y,batch_size):\n",
    "    \n",
    "    while True:\n",
    "        try:\n",
    "            i +=1\n",
    "        except:\n",
    "            i=0\n",
    "        if i>=len(x)//batch_size:\n",
    "            i=0\n",
    "        yield (np.reshape(x[i*batch_size:(i+1)*batch_size],(batch_size,1,28,28)), y[i*batch_size:(i+1)*batch_size])"
   ]
  },
  {
   "cell_type": "code",
   "execution_count": 6,
   "metadata": {},
   "outputs": [
    {
     "name": "stderr",
     "output_type": "stream",
     "text": [
      "Using TensorFlow backend.\n"
     ]
    }
   ],
   "source": [
    "import keras\n",
    "from keras.models import Sequential\n",
    "from keras.layers import Dense, Dropout, Activation, Conv2D,MaxPooling2D,Flatten\n",
    "from keras.optimizers import SGD\n",
    "model = Sequential()\n",
    "\n",
    "model.add(Conv2D(16,(3,3),strides = 1,data_format=\"channels_first\",activation = 'relu',input_shape = (1,28,28)))\n",
    "model.add(MaxPooling2D(pool_size=(2, 2), strides=None, padding='valid', data_format='channels_first'))\n",
    "model.add(Conv2D(32,(3,3),strides = 1,data_format=\"channels_first\",activation = 'relu'))\n",
    "model.add(Flatten(data_format=\"channels_first\"))\n",
    "model.add(Dense(50,activation='sigmoid'))\n",
    "model.add(Dense(10,activation='sigmoid'))\n",
    "model.compile(optimizer='sgd',loss = 'categorical_crossentropy',metrics=['accuracy'])"
   ]
  },
  {
   "cell_type": "code",
   "execution_count": 7,
   "metadata": {},
   "outputs": [
    {
     "name": "stdout",
     "output_type": "stream",
     "text": [
      "_________________________________________________________________\n",
      "Layer (type)                 Output Shape              Param #   \n",
      "=================================================================\n",
      "conv2d_1 (Conv2D)            (None, 16, 26, 26)        160       \n",
      "_________________________________________________________________\n",
      "max_pooling2d_1 (MaxPooling2 (None, 16, 13, 13)        0         \n",
      "_________________________________________________________________\n",
      "conv2d_2 (Conv2D)            (None, 32, 11, 11)        4640      \n",
      "_________________________________________________________________\n",
      "flatten_1 (Flatten)          (None, 3872)              0         \n",
      "_________________________________________________________________\n",
      "dense_1 (Dense)              (None, 50)                193650    \n",
      "_________________________________________________________________\n",
      "dense_2 (Dense)              (None, 10)                510       \n",
      "=================================================================\n",
      "Total params: 198,960\n",
      "Trainable params: 198,960\n",
      "Non-trainable params: 0\n",
      "_________________________________________________________________\n"
     ]
    }
   ],
   "source": [
    "#keras.backend.shape()\n",
    "model.summary()"
   ]
  },
  {
   "cell_type": "code",
   "execution_count": 8,
   "metadata": {},
   "outputs": [],
   "source": [
    "X_train = Reshape2d(X_train)\n",
    "X_val = Reshape2d(X_val)\n",
    "#print(type(X_train))\n",
    "from keras.utils.np_utils import to_categorical  \n",
    "\n",
    "y_train = to_categorical(y_train,num_classes=10)\n",
    "y_val = to_categorical(y_val,num_classes=10)"
   ]
  },
  {
   "cell_type": "code",
   "execution_count": 9,
   "metadata": {},
   "outputs": [
    {
     "name": "stdout",
     "output_type": "stream",
     "text": [
      "(6300, 28, 28)\n",
      "(6300, 10)\n"
     ]
    },
    {
     "data": {
      "text/plain": [
       "array([[1., 0., 0., ..., 0., 0., 0.],\n",
       "       [0., 0., 0., ..., 0., 0., 0.],\n",
       "       [0., 0., 0., ..., 1., 0., 0.],\n",
       "       ...,\n",
       "       [0., 0., 0., ..., 0., 0., 1.],\n",
       "       [0., 0., 0., ..., 0., 1., 0.],\n",
       "       [0., 1., 0., ..., 0., 0., 0.]], dtype=float32)"
      ]
     },
     "execution_count": 9,
     "metadata": {},
     "output_type": "execute_result"
    }
   ],
   "source": [
    "print(X_val.shape)\n",
    "print(y_val.shape)\n",
    "y_val"
   ]
  },
  {
   "cell_type": "code",
   "execution_count": 10,
   "metadata": {},
   "outputs": [
    {
     "name": "stdout",
     "output_type": "stream",
     "text": [
      "Epoch 1/100\n",
      "1115/1115 [==============================] - 5s 5ms/step - loss: 0.9411 - acc: 0.8517 - val_loss: 0.4262 - val_acc: 0.9427\n",
      "Epoch 2/100\n",
      "1115/1115 [==============================] - 4s 3ms/step - loss: 0.2952 - acc: 0.9557 - val_loss: 0.2158 - val_acc: 0.9675\n",
      "Epoch 3/100\n",
      "1115/1115 [==============================] - 4s 3ms/step - loss: 0.1792 - acc: 0.9695 - val_loss: 0.1523 - val_acc: 0.9735\n",
      "Epoch 4/100\n",
      "1115/1115 [==============================] - 4s 3ms/step - loss: 0.1310 - acc: 0.9764 - val_loss: 0.1240 - val_acc: 0.9744\n",
      "Epoch 5/100\n",
      "1115/1115 [==============================] - 4s 3ms/step - loss: 0.1042 - acc: 0.9807 - val_loss: 0.1022 - val_acc: 0.9771\n",
      "Epoch 6/100\n",
      "1115/1115 [==============================] - 4s 3ms/step - loss: 0.0867 - acc: 0.9843 - val_loss: 0.0928 - val_acc: 0.9808\n",
      "Epoch 7/100\n",
      "1115/1115 [==============================] - 4s 4ms/step - loss: 0.0723 - acc: 0.9870 - val_loss: 0.0835 - val_acc: 0.9810\n",
      "Epoch 8/100\n",
      "1115/1115 [==============================] - 4s 4ms/step - loss: 0.0624 - acc: 0.9886 - val_loss: 0.0814 - val_acc: 0.9819\n",
      "Epoch 9/100\n",
      "1115/1115 [==============================] - 4s 3ms/step - loss: 0.0546 - acc: 0.9903 - val_loss: 0.0710 - val_acc: 0.9825\n",
      "Epoch 10/100\n",
      "1115/1115 [==============================] - 4s 3ms/step - loss: 0.0469 - acc: 0.9924 - val_loss: 0.0693 - val_acc: 0.9829\n",
      "Epoch 11/100\n",
      "1115/1115 [==============================] - 4s 3ms/step - loss: 0.0425 - acc: 0.9932 - val_loss: 0.0680 - val_acc: 0.9837\n",
      "Epoch 12/100\n",
      "1115/1115 [==============================] - 4s 3ms/step - loss: 0.0371 - acc: 0.9945 - val_loss: 0.0635 - val_acc: 0.9851\n",
      "Epoch 13/100\n",
      "1115/1115 [==============================] - 4s 3ms/step - loss: 0.0327 - acc: 0.9955 - val_loss: 0.0619 - val_acc: 0.9840\n",
      "Epoch 14/100\n",
      "1115/1115 [==============================] - 4s 3ms/step - loss: 0.0298 - acc: 0.9957 - val_loss: 0.0607 - val_acc: 0.9841\n",
      "Epoch 15/100\n",
      "1115/1115 [==============================] - 4s 3ms/step - loss: 0.0260 - acc: 0.9967 - val_loss: 0.0580 - val_acc: 0.9846\n",
      "Epoch 16/100\n",
      "1115/1115 [==============================] - 4s 3ms/step - loss: 0.0239 - acc: 0.9969 - val_loss: 0.0570 - val_acc: 0.9852\n",
      "Epoch 17/100\n",
      "1115/1115 [==============================] - 4s 3ms/step - loss: 0.0215 - acc: 0.9976 - val_loss: 0.0549 - val_acc: 0.9851\n",
      "Epoch 18/100\n",
      "1115/1115 [==============================] - 4s 3ms/step - loss: 0.0197 - acc: 0.9979 - val_loss: 0.0553 - val_acc: 0.9857\n",
      "Epoch 19/100\n",
      "1115/1115 [==============================] - 4s 3ms/step - loss: 0.0181 - acc: 0.9982 - val_loss: 0.0537 - val_acc: 0.9852\n",
      "Epoch 20/100\n",
      "1115/1115 [==============================] - 4s 3ms/step - loss: 0.0169 - acc: 0.9982 - val_loss: 0.0523 - val_acc: 0.9856\n",
      "Epoch 21/100\n",
      "1115/1115 [==============================] - 4s 3ms/step - loss: 0.0158 - acc: 0.9983 - val_loss: 0.0519 - val_acc: 0.9854\n",
      "Epoch 22/100\n",
      "1115/1115 [==============================] - 4s 3ms/step - loss: 0.0151 - acc: 0.9983 - val_loss: 0.0517 - val_acc: 0.9857\n",
      "Epoch 23/100\n",
      "1115/1115 [==============================] - 4s 3ms/step - loss: 0.0145 - acc: 0.9983 - val_loss: 0.0514 - val_acc: 0.9857\n",
      "Epoch 24/100\n",
      "1115/1115 [==============================] - 4s 3ms/step - loss: 0.0139 - acc: 0.9983 - val_loss: 0.0510 - val_acc: 0.9857\n",
      "Epoch 25/100\n",
      "1115/1115 [==============================] - 4s 3ms/step - loss: 0.0134 - acc: 0.9983 - val_loss: 0.0507 - val_acc: 0.9860\n",
      "Epoch 26/100\n",
      "1115/1115 [==============================] - 4s 3ms/step - loss: 0.0131 - acc: 0.9984 - val_loss: 0.0502 - val_acc: 0.9860\n",
      "Epoch 27/100\n",
      "1115/1115 [==============================] - 4s 3ms/step - loss: 0.0127 - acc: 0.9983 - val_loss: 0.0500 - val_acc: 0.9859\n",
      "Epoch 28/100\n",
      "1115/1115 [==============================] - 4s 3ms/step - loss: 0.0123 - acc: 0.9984 - val_loss: 0.0498 - val_acc: 0.9857\n",
      "Epoch 29/100\n",
      "1115/1115 [==============================] - 4s 3ms/step - loss: 0.0120 - acc: 0.9984 - val_loss: 0.0496 - val_acc: 0.9857\n",
      "Epoch 30/100\n",
      "1115/1115 [==============================] - 4s 3ms/step - loss: 0.0117 - acc: 0.9984 - val_loss: 0.0500 - val_acc: 0.9859\n",
      "Epoch 31/100\n",
      "1115/1115 [==============================] - 4s 3ms/step - loss: 0.0114 - acc: 0.9985 - val_loss: 0.0495 - val_acc: 0.9860\n",
      "Epoch 32/100\n",
      "1115/1115 [==============================] - 4s 3ms/step - loss: 0.0112 - acc: 0.9985 - val_loss: 0.0494 - val_acc: 0.9854\n",
      "Epoch 33/100\n",
      "1115/1115 [==============================] - 4s 3ms/step - loss: 0.0109 - acc: 0.9985 - val_loss: 0.0494 - val_acc: 0.9856\n",
      "Epoch 34/100\n",
      "1115/1115 [==============================] - 4s 3ms/step - loss: 0.0106 - acc: 0.9985 - val_loss: 0.0493 - val_acc: 0.9856\n",
      "Epoch 35/100\n",
      "1115/1115 [==============================] - 4s 3ms/step - loss: 0.0104 - acc: 0.9986 - val_loss: 0.0489 - val_acc: 0.9856\n",
      "Epoch 36/100\n",
      "1115/1115 [==============================] - 4s 3ms/step - loss: 0.0102 - acc: 0.9986 - val_loss: 0.0486 - val_acc: 0.9859\n",
      "Epoch 37/100\n",
      "1115/1115 [==============================] - 4s 3ms/step - loss: 0.0100 - acc: 0.9986 - val_loss: 0.0486 - val_acc: 0.9856\n",
      "Epoch 38/100\n",
      "1115/1115 [==============================] - 4s 3ms/step - loss: 0.0099 - acc: 0.9986 - val_loss: 0.0484 - val_acc: 0.9856\n",
      "Epoch 39/100\n",
      "1115/1115 [==============================] - 4s 3ms/step - loss: 0.0097 - acc: 0.9986 - val_loss: 0.0481 - val_acc: 0.9857\n",
      "Epoch 40/100\n",
      "1115/1115 [==============================] - 4s 3ms/step - loss: 0.0095 - acc: 0.9986 - val_loss: 0.0480 - val_acc: 0.9857\n",
      "Epoch 41/100\n",
      "1115/1115 [==============================] - 4s 3ms/step - loss: 0.0094 - acc: 0.9986 - val_loss: 0.0479 - val_acc: 0.9860\n",
      "Epoch 42/100\n",
      "1115/1115 [==============================] - 4s 3ms/step - loss: 0.0093 - acc: 0.9986 - val_loss: 0.0475 - val_acc: 0.9862\n",
      "Epoch 43/100\n",
      "1115/1115 [==============================] - 4s 3ms/step - loss: 0.0092 - acc: 0.9986 - val_loss: 0.0473 - val_acc: 0.9863\n",
      "Epoch 44/100\n",
      "1115/1115 [==============================] - 4s 3ms/step - loss: 0.0090 - acc: 0.9987 - val_loss: 0.0470 - val_acc: 0.9865\n",
      "Epoch 45/100\n",
      "1115/1115 [==============================] - 4s 3ms/step - loss: 0.0089 - acc: 0.9987 - val_loss: 0.0472 - val_acc: 0.9865\n",
      "Epoch 46/100\n",
      "1115/1115 [==============================] - 4s 3ms/step - loss: 0.0088 - acc: 0.9987 - val_loss: 0.0470 - val_acc: 0.9867\n",
      "Epoch 47/100\n",
      "1115/1115 [==============================] - 4s 3ms/step - loss: 0.0086 - acc: 0.9987 - val_loss: 0.0476 - val_acc: 0.9863\n",
      "Epoch 48/100\n",
      "1115/1115 [==============================] - 4s 3ms/step - loss: 0.0085 - acc: 0.9987 - val_loss: 0.0471 - val_acc: 0.9862\n",
      "Epoch 49/100\n",
      "1115/1115 [==============================] - 4s 4ms/step - loss: 0.0084 - acc: 0.9987 - val_loss: 0.0474 - val_acc: 0.9863\n",
      "Epoch 50/100\n",
      "1115/1115 [==============================] - 4s 4ms/step - loss: 0.0082 - acc: 0.9987 - val_loss: 0.0471 - val_acc: 0.9865\n",
      "Epoch 51/100\n",
      "1115/1115 [==============================] - 4s 3ms/step - loss: 0.0081 - acc: 0.9987 - val_loss: 0.0470 - val_acc: 0.9868\n",
      "Epoch 52/100\n",
      "1115/1115 [==============================] - 4s 3ms/step - loss: 0.0081 - acc: 0.9987 - val_loss: 0.0470 - val_acc: 0.9862\n",
      "Epoch 53/100\n",
      "1115/1115 [==============================] - 4s 3ms/step - loss: 0.0080 - acc: 0.9987 - val_loss: 0.0470 - val_acc: 0.9860\n",
      "Epoch 54/100\n",
      "1115/1115 [==============================] - 4s 3ms/step - loss: 0.0079 - acc: 0.9987 - val_loss: 0.0468 - val_acc: 0.9865\n",
      "Epoch 55/100\n",
      "1115/1115 [==============================] - 4s 3ms/step - loss: 0.0078 - acc: 0.9987 - val_loss: 0.0468 - val_acc: 0.9862\n",
      "Epoch 56/100\n",
      "1115/1115 [==============================] - 4s 3ms/step - loss: 0.0077 - acc: 0.9987 - val_loss: 0.0467 - val_acc: 0.9859\n",
      "Epoch 57/100\n",
      "1115/1115 [==============================] - 4s 3ms/step - loss: 0.0076 - acc: 0.9987 - val_loss: 0.0468 - val_acc: 0.9862\n",
      "Epoch 58/100\n",
      "1115/1115 [==============================] - 4s 3ms/step - loss: 0.0076 - acc: 0.9987 - val_loss: 0.0469 - val_acc: 0.9859\n",
      "Epoch 59/100\n",
      "1115/1115 [==============================] - 4s 3ms/step - loss: 0.0075 - acc: 0.9987 - val_loss: 0.0469 - val_acc: 0.9859\n",
      "Epoch 60/100\n",
      "1115/1115 [==============================] - 4s 3ms/step - loss: 0.0074 - acc: 0.9987 - val_loss: 0.0468 - val_acc: 0.9859\n",
      "Epoch 61/100\n",
      "1115/1115 [==============================] - 4s 3ms/step - loss: 0.0074 - acc: 0.9987 - val_loss: 0.0468 - val_acc: 0.9860\n",
      "Epoch 62/100\n",
      "1115/1115 [==============================] - 4s 3ms/step - loss: 0.0073 - acc: 0.9987 - val_loss: 0.0467 - val_acc: 0.9860\n",
      "Epoch 63/100\n",
      "1115/1115 [==============================] - 4s 3ms/step - loss: 0.0073 - acc: 0.9987 - val_loss: 0.0467 - val_acc: 0.9860\n",
      "Epoch 64/100\n",
      "1115/1115 [==============================] - 4s 3ms/step - loss: 0.0072 - acc: 0.9987 - val_loss: 0.0466 - val_acc: 0.9860\n",
      "Epoch 65/100\n",
      "1115/1115 [==============================] - 4s 3ms/step - loss: 0.0072 - acc: 0.9987 - val_loss: 0.0465 - val_acc: 0.9860\n",
      "Epoch 66/100\n",
      "1115/1115 [==============================] - 4s 3ms/step - loss: 0.0071 - acc: 0.9987 - val_loss: 0.0465 - val_acc: 0.9862\n",
      "Epoch 67/100\n",
      "1115/1115 [==============================] - 4s 3ms/step - loss: 0.0071 - acc: 0.9987 - val_loss: 0.0464 - val_acc: 0.9862\n",
      "Epoch 68/100\n",
      "1115/1115 [==============================] - 4s 3ms/step - loss: 0.0070 - acc: 0.9987 - val_loss: 0.0466 - val_acc: 0.9860\n",
      "Epoch 69/100\n",
      "1115/1115 [==============================] - 4s 4ms/step - loss: 0.0070 - acc: 0.9988 - val_loss: 0.0464 - val_acc: 0.9862\n",
      "Epoch 70/100\n",
      "1115/1115 [==============================] - 4s 3ms/step - loss: 0.0069 - acc: 0.9988 - val_loss: 0.0463 - val_acc: 0.9859\n",
      "Epoch 71/100\n",
      "1115/1115 [==============================] - 4s 3ms/step - loss: 0.0069 - acc: 0.9988 - val_loss: 0.0462 - val_acc: 0.9859\n",
      "Epoch 72/100\n",
      "1115/1115 [==============================] - 4s 3ms/step - loss: 0.0068 - acc: 0.9988 - val_loss: 0.0462 - val_acc: 0.9860\n",
      "Epoch 73/100\n",
      "1115/1115 [==============================] - 4s 3ms/step - loss: 0.0068 - acc: 0.9988 - val_loss: 0.0462 - val_acc: 0.9860\n",
      "Epoch 74/100\n",
      "1115/1115 [==============================] - 4s 3ms/step - loss: 0.0068 - acc: 0.9988 - val_loss: 0.0461 - val_acc: 0.9859\n",
      "Epoch 75/100\n",
      "1115/1115 [==============================] - 4s 3ms/step - loss: 0.0067 - acc: 0.9988 - val_loss: 0.0463 - val_acc: 0.9860\n",
      "Epoch 76/100\n",
      "1115/1115 [==============================] - 4s 3ms/step - loss: 0.0066 - acc: 0.9988 - val_loss: 0.0463 - val_acc: 0.9860\n",
      "Epoch 77/100\n",
      "1115/1115 [==============================] - 4s 3ms/step - loss: 0.0066 - acc: 0.9988 - val_loss: 0.0463 - val_acc: 0.9860\n",
      "Epoch 78/100\n",
      "1115/1115 [==============================] - 4s 3ms/step - loss: 0.0066 - acc: 0.9988 - val_loss: 0.0461 - val_acc: 0.9860\n",
      "Epoch 79/100\n",
      "1115/1115 [==============================] - 4s 3ms/step - loss: 0.0065 - acc: 0.9988 - val_loss: 0.0463 - val_acc: 0.9862\n",
      "Epoch 80/100\n",
      "1115/1115 [==============================] - 4s 3ms/step - loss: 0.0065 - acc: 0.9988 - val_loss: 0.0464 - val_acc: 0.9862\n",
      "Epoch 81/100\n",
      "1115/1115 [==============================] - 4s 3ms/step - loss: 0.0066 - acc: 0.9987 - val_loss: 0.0463 - val_acc: 0.9863\n",
      "Epoch 82/100\n",
      "1115/1115 [==============================] - 4s 3ms/step - loss: 0.0064 - acc: 0.9988 - val_loss: 0.0458 - val_acc: 0.9863\n",
      "Epoch 83/100\n",
      "1115/1115 [==============================] - 4s 3ms/step - loss: 0.0066 - acc: 0.9988 - val_loss: 0.0451 - val_acc: 0.9863\n",
      "Epoch 84/100\n",
      "1115/1115 [==============================] - 4s 3ms/step - loss: 0.0064 - acc: 0.9989 - val_loss: 0.0455 - val_acc: 0.9863\n",
      "Epoch 85/100\n",
      "1115/1115 [==============================] - 4s 3ms/step - loss: 0.0064 - acc: 0.9989 - val_loss: 0.0452 - val_acc: 0.9868\n",
      "Epoch 86/100\n",
      "1115/1115 [==============================] - 4s 3ms/step - loss: 0.0063 - acc: 0.9989 - val_loss: 0.0456 - val_acc: 0.9862\n",
      "Epoch 87/100\n",
      " 673/1115 [=================>............] - ETA: 1s - loss: 0.0073 - acc: 0.9986"
     ]
    }
   ],
   "source": [
    "\n",
    "batch_size = 32\n",
    "model.fit_generator(next_batch(X_train,y_train,batch_size),epochs = 100,validation_data=(np.reshape(X_val,(-1,1,28,28)),y_val),steps_per_epoch=len(X_train)//batch_size)"
   ]
  },
  {
   "cell_type": "code",
   "execution_count": 11,
   "metadata": {},
   "outputs": [],
   "source": [
    "try:\n",
    "    counter +=1\n",
    "except:\n",
    "    counter = 0\n",
    "model.save('../working/model0'+str(counter))"
   ]
  },
  {
   "cell_type": "code",
   "execution_count": 12,
   "metadata": {},
   "outputs": [
    {
     "name": "stdout",
     "output_type": "stream",
     "text": [
      "ls: cannot access '../working/model1': No such file or directory\r\n"
     ]
    }
   ],
   "source": [
    "!ls ../working/model1"
   ]
  },
  {
   "cell_type": "code",
   "execution_count": 13,
   "metadata": {},
   "outputs": [],
   "source": [
    "n3 = np.reshape(n3,(-1,1,28,28))\n",
    "\n",
    "z= model.predict(n3)\n",
    "z = [np.argmax(r) for r in z]\n",
    "z1=pd.DataFrame({'ImageId': np.arange(1,len(z)+1) ,'label': z})\n",
    "z1.to_csv(\"../working/foo.csv\",index=False)"
   ]
  },
  {
   "cell_type": "code",
   "execution_count": null,
   "metadata": {},
   "outputs": [],
   "source": []
  }
 ],
 "metadata": {
  "kernelspec": {
   "display_name": "Python 3",
   "language": "python",
   "name": "python3"
  },
  "language_info": {
   "codemirror_mode": {
    "name": "ipython",
    "version": 3
   },
   "file_extension": ".py",
   "mimetype": "text/x-python",
   "name": "python",
   "nbconvert_exporter": "python",
   "pygments_lexer": "ipython3",
   "version": "3.6.6"
  }
 },
 "nbformat": 4,
 "nbformat_minor": 1
}
